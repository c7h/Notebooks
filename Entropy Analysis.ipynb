{
 "cells": [
  {
   "cell_type": "code",
   "execution_count": 1,
   "metadata": {},
   "outputs": [
    {
     "name": "stdout",
     "output_type": "stream",
     "text": [
      "\u001b[33mYou are using pip version 18.0, however version 18.1 is available.\n",
      "You should consider upgrading via the 'pip install --upgrade pip' command.\u001b[0m\n",
      "Author: Christoph Gerneth \n",
      "\n",
      "CPython 3.6.4\n",
      "IPython 6.5.0\n",
      "\n",
      "matplotlib 2.2.3\n",
      "numpy 1.15.1\n",
      "\n",
      "compiler   : GCC 4.2.1 Compatible Apple LLVM 9.0.0 (clang-900.0.39.2)\n",
      "system     : Darwin\n",
      "release    : 17.7.0\n",
      "machine    : x86_64\n",
      "processor  : i386\n",
      "CPU cores  : 4\n",
      "interpreter: 64bit\n",
      "Git hash   :\n"
     ]
    }
   ],
   "source": [
    "!pip install --quiet watermark matplotlib numpy progressbar\n",
    "%load_ext watermark\n",
    "%watermark -v -m -a \"Author: Christoph Gerneth\" -g -p matplotlib,numpy\n",
    "%matplotlib inline"
   ]
  },
  {
   "cell_type": "markdown",
   "metadata": {},
   "source": [
    "## Entropy Analysis on Files\n",
    "\n",
    "Split a file into blocks of size `X` and calculate the entropy for the block\n",
    "\n",
    "$$ \\eta_1 = E[I]= \\sum_{z\\in Z} p_z I(z) = - \\sum_{z\\in Z} p_z \\log_2 p_z$$\n",
    "\n",
    "The limitation is the file size here. Large files take quite long."
   ]
  },
  {
   "cell_type": "code",
   "execution_count": 2,
   "metadata": {},
   "outputs": [],
   "source": [
    "import math\n",
    "import os\n",
    "import matplotlib.pyplot as plt\n",
    "from matplotlib.ticker import MultipleLocator, FormatStrFormatter\n",
    "\n",
    "SHOWPROGRESS = True       # Show progress bar\n",
    "BLOCKSIZE = 256           # Size of blocks scanned."
   ]
  },
  {
   "cell_type": "code",
   "execution_count": 3,
   "metadata": {},
   "outputs": [
    {
     "name": "stdout",
     "output_type": "stream",
     "text": [
      "filename: /Users/c7h/Desktop/minut/point.onboarding.txt\n"
     ]
    },
    {
     "name": "stderr",
     "output_type": "stream",
     "text": [
      " 99%|######################################################################## |\r"
     ]
    },
    {
     "name": "stdout",
     "output_type": "stream",
     "text": [
      "done\n"
     ]
    }
   ],
   "source": [
    "filename = input(\"filename: \")\n",
    "\n",
    "def H(data):\n",
    "    if not data:\n",
    "        return 0\n",
    "    entropy = 0\n",
    "    l = len(data)\n",
    "    for x in range(256):\n",
    "        p_z = float(data.count(x)/l)\n",
    "        if p_z > 0:\n",
    "            entropy += -p_z*math.log(p_z, 2)\n",
    "    return entropy\n",
    "\n",
    "\n",
    "def entropy_scan(data, block_size):\n",
    "    if SHOWPROGRESS:\n",
    "        from progressbar import ProgressBar, Bar, Percentage\n",
    "        widgets = [Percentage(), Bar()]\n",
    "        progress = ProgressBar(widgets=widgets, maxval=len(data)-block_size).start()\n",
    "    # creates blocks of block_size for all possible offsets ('x'):\n",
    "    blocks = (data[x:block_size+x] for x in range(len(data)-block_size))\n",
    "    i = 0\n",
    "    for block in blocks:\n",
    "        i += 1\n",
    "        if SHOWPROGRESS:\n",
    "            progress.update(i)\n",
    "        yield H(block)\n",
    "\n",
    "with open(os.path.abspath(filename), 'rb') as f:\n",
    "    raw = f.read()\n",
    "results = list( entropy_scan(raw, BLOCKSIZE) )\n",
    "    \n",
    "\n",
    "print('done')"
   ]
  },
  {
   "cell_type": "code",
   "execution_count": 4,
   "metadata": {},
   "outputs": [
    {
     "data": {
      "image/png": "[encoded data removed]",
      "text/plain": [
       "<Figure size 432x288 with 1 Axes>"
      ]
     },
     "metadata": {
      "needs_background": "light"
     },
     "output_type": "display_data"
    }
   ],
   "source": [
    "def plot_entropy(data, filename, imgdpi=100):\n",
    "    filesize = os.path.getsize(filename)\n",
    "    imgwidth = filesize / imgdpi\n",
    "    if imgwidth > 327:\n",
    "        imgwidth = 327\n",
    "    majorLocator = MultipleLocator(0x400)   # mark every 1024 bytes\n",
    "    majorFormatter = FormatStrFormatter('%g')\n",
    "    \n",
    "    majorLocator.MAXTICKS = 1500\n",
    "    \n",
    "    ax = plt.subplot(111)\n",
    "    plt.plot(data, linewidth=1.0, antialiased=False)\n",
    "    plt.subplots_adjust(left=0.02, right=0.99, bottom=0.2)\n",
    "    \n",
    "    ax.axis([0, filesize, 0, 8])\n",
    "    ax\n",
    "    ax.xaxis.set_major_locator(majorLocator)\n",
    "    ax.xaxis.set_major_formatter(majorFormatter)\n",
    "    \n",
    "    # rotate labels\n",
    "    plt.xticks(rotation=315)\n",
    "    plt.xlabel('block (byte offset)')\n",
    "    plt.ylabel('entropy')\n",
    "    plt.title('Entropy levels of [%s]' % filename)\n",
    "    plt.grid(True)\n",
    "    \n",
    "    plt.show()\n",
    "    \n",
    "plot_entropy(results, filename)"
   ]
  },
  {
   "cell_type": "code",
   "execution_count": null,
   "metadata": {},
   "outputs": [],
   "source": []
  }
 ],
 "metadata": {
  "kernelspec": {
   "display_name": "Python 3",
   "language": "python",
   "name": "python3"
  },
  "language_info": {
   "codemirror_mode": {
    "name": "ipython",
    "version": 3
   },
   "file_extension": ".py",
   "mimetype": "text/x-python",
   "name": "python",
   "nbconvert_exporter": "python",
   "pygments_lexer": "ipython3",
   "version": "3.6.4"
  }
 },
 "nbformat": 4,
 "nbformat_minor": 2
}
